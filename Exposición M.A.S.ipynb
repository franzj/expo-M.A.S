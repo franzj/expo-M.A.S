{
 "cells": [
  {
   "cell_type": "markdown",
   "metadata": {
    "slideshow": {
     "slide_type": "slide"
    }
   },
   "source": [
    "# <center>Movimiento Armónico Simple</center>\n",
    "\n",
    "## Movimiento Oscilatorio\n",
    "Una partícula de masa *m* se dice que se encuentra en un movimiento oscilatorio, si se describe como un movimiento *periódico*, respecto a un punto o posición de equilibrio estable.\n",
    "\n",
    "Un sistema se encuentra en un movimiento periódico cuando su estado se repite en intervalos de tiempos regulares.\n",
    "<table>\n",
    "    <thead>\n",
    "        <th><center>**Péndulo Simple**</center></th>\n",
    "        <th><center>**Resorte Simple**</center></th>\n",
    "    </thead>\n",
    "    <tbody>\n",
    "        <td><img style=\"max-height: 250px;\" src=\"pendulo-simple.gif\"></td>\n",
    "        <td><img style=\"max-height: 250px;\" src=\"resorte-simple.gif\"></td>\n",
    "    </tbody>\n",
    "</table>\n",
    "\n",
    "Entonces el movimiento armónico simple es un movimiento periódico, y vibratorio en ausencia de fricción, producido por la acción de una fuerza recuperadora que es directamente proporcional a la posición, y que queda descrito en función del tiempo por una función senoidal *(seno o coseno)*.\n",
    "\n",
    "## Resolución\n",
    "\n",
    "- Por la ley de fuerza donde *k* es constante.\n",
    "    \n",
    "    $$ F = -kx$$\n",
    "    \n",
    "- Por la ley de Newton. \n",
    "\n",
    "    $$F = ma$$\n",
    "    \n",
    "    $$a=\\frac{dv}{dt}=\\frac{d}{dt}({dx \\over dt})={d^2x \\over dt^2})$$\n",
    "    \n",
    "- Tenemos la ecuación.\n",
    "    \n",
    "    $$m{d^2x \\over dt^2} = -kx$$\n",
    "    \n",
    "    $$m{d^2x \\over dt^2} + kx = 0$$\n",
    "    \n",
    "    $${d^2x \\over dt^2} + {k \\over m}x = 0$$\n",
    "    \n",
    "\n",
    "- Donde *k* es una constante que dependerá del sistema que se está trabajando y *m* es la masa de la partícula, entonces sea un $\\omega$ frecuencia angular.\n",
    "\n",
    "    $$\\omega = 2 \\pi f = {2 \\pi \\over T}$$\n",
    "    \n",
    "    $$\\omega ^2= {k \\over m}$$\n",
    "    \n",
    "- Reescribiendo la E.D\n",
    "    \n",
    "    $${d^2x \\over dt^2} + \\omega^2x = 0$$\n",
    "    \n",
    "    $$(D^2 + \\omega^2)x = 0$$\n",
    "    \n",
    "    $$m^2 + \\omega^2 = 0$$\n",
    "    \n",
    "    $$\n",
    "    \\begin{array}{ll}\n",
    "        m = + \\omega i \\\\\n",
    "        m = - \\omega i\n",
    "    \\end{array}\n",
    "    $$\n",
    "    \n",
    "    $$x(t) = C_1.e^{0x}.cos(\\omega x) + C_2.e^{0x}.sen(\\omega x)$$\n",
    "    \n",
    "    $$x(t) = C_1.cos(\\omega x) + C_2.sen(\\omega x)$$\n",
    "    \n",
    "    $$x(t) = A.cos(\\omega x + \\phi)$$\n",
    "\n",
    "- donde $A$ y $\\phi$ se encuentran por las condiciones iniciales\n",
    "    "
   ]
  },
  {
   "cell_type": "code",
   "execution_count": 35,
   "metadata": {
    "collapsed": false
   },
   "outputs": [],
   "source": [
    "%matplotlib inline\n",
    "\n",
    "import matplotlib\n",
    "import numpy as np\n",
    "import matplotlib.pyplot as plt"
   ]
  },
  {
   "cell_type": "markdown",
   "metadata": {},
   "source": [
    "## Ejemplo\n",
    "Un resorte se alarga 4 cm cuando se cuelga de él un objeto de 20 kg de masa. A continuación, se estira el resorte 3 cm más y se le deja que oscile libremente. Determina el periodo y la pulsación del movimiento. Calcula los valores de la elongación, velocidad, aceleración y dureza elástica a los 2,1 s de iniciado el movimiento. ¿Cuál es la diferencia de fase entre este instante y el instante inicial?\n",
    "\n"
   ]
  }
 ],
 "metadata": {
  "celltoolbar": "Slideshow",
  "kernelspec": {
   "display_name": "Python 3",
   "language": "python",
   "name": "python3"
  },
  "language_info": {
   "codemirror_mode": {
    "name": "ipython",
    "version": 3
   },
   "file_extension": ".py",
   "mimetype": "text/x-python",
   "name": "python",
   "nbconvert_exporter": "python",
   "pygments_lexer": "ipython3",
   "version": "3.5.2"
  }
 },
 "nbformat": 4,
 "nbformat_minor": 1
}
